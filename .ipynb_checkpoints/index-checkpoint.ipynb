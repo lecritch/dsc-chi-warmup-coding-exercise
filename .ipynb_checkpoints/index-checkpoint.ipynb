{
 "cells": [
  {
   "cell_type": "markdown",
   "metadata": {},
   "source": [
    "# Coding Exercises\n",
    "\n",
    "As a warmup for today, here are a few coding problems. Each problem is more difficult than the one before. \n",
    "\n",
    "You are not expected to complete all of these problems this morning. Feel free to \n",
    "use this notebook as a resource for flexing your coding muscles whenever you need a break from the math of Mod 2. If you complete all of the problems and would like more to solve, check out [Code Wars](https://www.codewars.com). "
   ]
  },
  {
   "cell_type": "markdown",
   "metadata": {},
   "source": [
    "For each section, a prompt is provided as well as an empty function. \n",
    "\n",
    "Fill in the code for that empty function and run the test cell to measure the success of your code."
   ]
  },
  {
   "cell_type": "code",
   "execution_count": 1,
   "metadata": {
    "ExecuteTime": {
     "end_time": "2020-06-01T02:26:31.860694Z",
     "start_time": "2020-06-01T02:26:31.857781Z"
    }
   },
   "outputs": [],
   "source": [
    "## Run this cell unchanged.\n",
    "\n",
    "def assert_equals(pred,test):\n",
    "    if pred == test:\n",
    "        print('Success!')\n",
    "    else:\n",
    "        print('Fail')"
   ]
  },
  {
   "cell_type": "markdown",
   "metadata": {},
   "source": [
    "# Array.diff\n",
    "\n",
    "Your goal in this kata is to implement a difference function, which subtracts one list from another and returns the result.\n",
    "\n",
    "It should remove all values from list a, which are present in list b.\n",
    "\n",
    "```array_diff([1,2],[1]) == [2]```\n",
    "\n",
    "If a value is present in b, all of its occurrences must be removed from the other:\n",
    "\n",
    "```array_diff([1,2,2,2,3],[2]) == [1,3]```"
   ]
  },
  {
   "cell_type": "code",
   "execution_count": 5,
   "metadata": {},
   "outputs": [],
   "source": [
    "test = [1, 2, 3]"
   ]
  },
  {
   "cell_type": "code",
   "execution_count": 12,
   "metadata": {
    "ExecuteTime": {
     "end_time": "2020-03-10T06:38:01.594537Z",
     "start_time": "2020-03-10T06:38:01.591234Z"
    }
   },
   "outputs": [],
   "source": [
    "def array_diff(a, b):\n",
    "    '''\n",
    "    Function to remove all elements in list b from list a.  \n",
    "    Returns (list) list a without elements of list b.\n",
    "    a (list):  elements to be removed from \n",
    "    b (list):  elements to remove from a\n",
    "    '''\n",
    "    for num in b:\n",
    "        if num in a:\n",
    "            a.remove(num)\n",
    "    return a\n",
    "\n",
    "### need to learn how to deal with the case of multiples showing up in a"
   ]
  },
  {
   "cell_type": "markdown",
   "metadata": {},
   "source": [
    "Test your function below"
   ]
  },
  {
   "cell_type": "code",
   "execution_count": 11,
   "metadata": {
    "ExecuteTime": {
     "end_time": "2020-06-01T02:13:00.852856Z",
     "start_time": "2020-06-01T02:13:00.847139Z"
    }
   },
   "outputs": [
    {
     "name": "stdout",
     "output_type": "stream",
     "text": [
      "Success!\n",
      "Success!\n",
      "Fail\n",
      "Success!\n",
      "Success!\n"
     ]
    }
   ],
   "source": [
    "assert_equals(array_diff([1,2], [1]), [2]), \n",
    "assert_equals(array_diff([1,2,2], [1]), [2,2]) \n",
    "assert_equals(array_diff([1,2,2], [2]), [1]) \n",
    "assert_equals(array_diff([1,2,2], []), [1,2,2]) \n",
    "assert_equals(array_diff([], [1,2]), [])"
   ]
  },
  {
   "cell_type": "markdown",
   "metadata": {},
   "source": [
    "# Moving Zeros To The End"
   ]
  },
  {
   "cell_type": "markdown",
   "metadata": {},
   "source": [
    "Write an algorithm that takes an array and moves all of the zeros to the end, preserving the order of the other elements.\n",
    "\n",
    "```move_zeros([false,1,0,1,2,0,1,3,\"a\"]) # returns[false,1,1,2,1,3,\"a\",0,0]```"
   ]
  },
  {
   "cell_type": "code",
   "execution_count": 37,
   "metadata": {
    "ExecuteTime": {
     "end_time": "2020-03-10T06:54:25.945906Z",
     "start_time": "2020-03-10T06:54:25.943402Z"
    }
   },
   "outputs": [],
   "source": [
    "def move_zeros(array):\n",
    "    '''\n",
    "    Takes an array (list) and moves all 0's to the end of the array while preserving\n",
    "    the order of the other elements\n",
    "    '''\n",
    "    for item in array:\n",
    "#         if item == False:\n",
    "#             if type(item) == int:\n",
    "                \n",
    "#             elif type(item) == bool:\n",
    "#                 continue\n",
    "# #             print(item)\n",
    "        if (type(item) == int) & (item == 0):\n",
    "            array.remove(item)\n",
    "            array.append(item)\n",
    "            print(item)\n",
    "            \n",
    "        # create a new list of 0's and add it to the current list\n",
    "    return array\n",
    "\n",
    "### it's passing 'False' as == 0"
   ]
  },
  {
   "cell_type": "code",
   "execution_count": 39,
   "metadata": {},
   "outputs": [
    {
     "name": "stdout",
     "output_type": "stream",
     "text": [
      "0\n",
      "0\n",
      "0\n"
     ]
    },
    {
     "data": {
      "text/plain": [
       "[1, None, 2, 1, 0, 0, 0]"
      ]
     },
     "execution_count": 39,
     "metadata": {},
     "output_type": "execute_result"
    }
   ],
   "source": [
    "move_zeros([0,1,None,2,False,1,0])"
   ]
  },
  {
   "cell_type": "markdown",
   "metadata": {
    "ExecuteTime": {
     "end_time": "2020-03-10T06:30:10.487877Z",
     "start_time": "2020-03-10T06:30:10.483430Z"
    }
   },
   "source": [
    "Test your function in the cell below"
   ]
  },
  {
   "cell_type": "code",
   "execution_count": 26,
   "metadata": {},
   "outputs": [
    {
     "data": {
      "text/plain": [
       "True"
      ]
     },
     "execution_count": 26,
     "metadata": {},
     "output_type": "execute_result"
    }
   ],
   "source": [
    "False == 0"
   ]
  },
  {
   "cell_type": "code",
   "execution_count": 29,
   "metadata": {},
   "outputs": [
    {
     "data": {
      "text/plain": [
       "False"
      ]
     },
     "execution_count": 29,
     "metadata": {},
     "output_type": "execute_result"
    }
   ],
   "source": [
    "None == False"
   ]
  },
  {
   "cell_type": "code",
   "execution_count": 35,
   "metadata": {
    "ExecuteTime": {
     "end_time": "2020-06-01T02:12:51.595281Z",
     "start_time": "2020-06-01T02:12:51.583339Z"
    }
   },
   "outputs": [
    {
     "name": "stdout",
     "output_type": "stream",
     "text": [
      "Success!\n",
      "Success!\n",
      "Success!\n",
      "Fail\n",
      "Fail\n",
      "Success!\n",
      "Success!\n",
      "Success!\n",
      "Success!\n",
      "Success!\n",
      "Success!\n"
     ]
    }
   ],
   "source": [
    "assert_equals(move_zeros([1,2,0,1,0,1,0,3,0,1]),[ 1, 2, 1, 1, 3, 1, 0, 0, 0, 0 ])\n",
    "assert_equals(move_zeros([9,0.0,0,9,1,2,0,1,0,1,0.0,3,0,1,9,0,0,0,0,9]),[9,9,1,2,1,1,3,1,9,9,0,0,0,0,0,0,0,0,0,0])\n",
    "assert_equals(move_zeros([\"a\",0,0,\"b\",\"c\",\"d\",0,1,0,1,0,3,0,1,9,0,0,0,0,9]),[\"a\",\"b\",\"c\",\"d\",1,1,3,1,9,9,0,0,0,0,0,0,0,0,0,0])\n",
    "assert_equals(move_zeros([\"a\",0,0,\"b\",None,\"c\",\"d\",0,1,False,0,1,0,3,[],0,1,9,0,0,{},0,0,9]),[\"a\",\"b\",None,\"c\",\"d\",1,False,1,3,[],1,9,{},9,0,0,0,0,0,0,0,0,0,0])\n",
    "assert_equals(move_zeros([0,1,None,2,False,1,0]),[1,None,2,False,1,0,0])\n",
    "assert_equals(move_zeros([\"a\",\"b\"]),[\"a\",\"b\"])\n",
    "assert_equals(move_zeros([\"a\"]),[\"a\"])\n",
    "assert_equals(move_zeros([0,0]),[0,0])\n",
    "assert_equals(move_zeros([0]),[0])\n",
    "assert_equals(move_zeros([False]),[False])\n",
    "assert_equals(move_zeros([]),[])"
   ]
  },
  {
   "cell_type": "markdown",
   "metadata": {},
   "source": [
    "# Highest and Lowest"
   ]
  },
  {
   "cell_type": "markdown",
   "metadata": {},
   "source": [
    "You are given a string of space separated numbers, and have to return the highest and lowest number.\n",
    "\n",
    "**Example:**\n",
    "\n",
    "```high_and_low(\"1 2 3 4 5\")  # return \"5 1\"```\n",
    "\n",
    "```high_and_low(\"1 2 -3 4 5\") # return \"5 -3\"```\n",
    "\n",
    "```high_and_low(\"1 9 3 4 -5\") # return \"9 -5\"```\n",
    "\n",
    "**Notes:**\n",
    "\n",
    "- All numbers are valid Int32, no need to validate them.\n",
    "- There will always be at least one number in the input string.\n",
    "- Output string must be two numbers separated by a single space, and highest number is first."
   ]
  },
  {
   "cell_type": "code",
   "execution_count": null,
   "metadata": {
    "ExecuteTime": {
     "end_time": "2020-03-10T06:46:28.571207Z",
     "start_time": "2020-03-10T06:46:28.567381Z"
    }
   },
   "outputs": [],
   "source": [
    "def high_and_low(numbers): #z.\n",
    "    '''\n",
    "    Your code here\n",
    "    '''"
   ]
  },
  {
   "cell_type": "markdown",
   "metadata": {},
   "source": [
    "Test your function below"
   ]
  },
  {
   "cell_type": "code",
   "execution_count": 8,
   "metadata": {
    "ExecuteTime": {
     "end_time": "2020-06-01T02:15:41.370883Z",
     "start_time": "2020-06-01T02:15:41.365654Z"
    }
   },
   "outputs": [
    {
     "name": "stdout",
     "output_type": "stream",
     "text": [
      "Success!\n",
      "Success!\n",
      "Success!\n",
      "Success!\n",
      "Success!\n",
      "Success!\n"
     ]
    }
   ],
   "source": [
    "assert_equals(high_and_low(\"4 5 29 54 4 0 -214 542 -64 1 -3 6 -6\"), \"542 -214\")\n",
    "assert_equals(high_and_low(\"200 6 -2 1000 -30 492 93 -21 9 38 123\"), \"1000 -30\")\n",
    "assert_equals(high_and_low(\"1 2 3 4 1 2 3 4 1 2 3 4 1 2 3 4\"), \"4 1\")\n",
    "assert_equals(high_and_low(\"10 9 8 7 6 5 4 3 2 1 0 -1 -2 -3 -4\"), \"10 -4\")\n",
    "assert_equals(high_and_low(\"338 218 9493823 4949237237 030173734\"), \"4949237237 218\")\n",
    "assert_equals(high_and_low(\"0001 0002 00004 00000006\"), \"6 1\")"
   ]
  },
  {
   "cell_type": "markdown",
   "metadata": {},
   "source": [
    "# First character that repeats"
   ]
  },
  {
   "cell_type": "markdown",
   "metadata": {},
   "source": [
    "Find the first character that repeats in a String and return that character.\n",
    "\n",
    "```first_dup('tweet') # returns 't'```\n",
    "\n",
    "```first_dup('like') # returns None```\n",
    "\n",
    "*This is not the same as finding the character that repeats first. In that case, an input of 'tweet' would yield 'e'.*"
   ]
  },
  {
   "cell_type": "code",
   "execution_count": null,
   "metadata": {
    "ExecuteTime": {
     "end_time": "2020-03-10T06:56:37.798704Z",
     "start_time": "2020-03-10T06:56:37.795534Z"
    }
   },
   "outputs": [],
   "source": [
    "def first_dup(s):\n",
    "    '''\n",
    "    Your code here\n",
    "    '''"
   ]
  },
  {
   "cell_type": "markdown",
   "metadata": {},
   "source": [
    "Test your function below"
   ]
  },
  {
   "cell_type": "code",
   "execution_count": 10,
   "metadata": {
    "ExecuteTime": {
     "end_time": "2020-06-01T02:16:45.737746Z",
     "start_time": "2020-06-01T02:16:45.732637Z"
    }
   },
   "outputs": [
    {
     "name": "stdout",
     "output_type": "stream",
     "text": [
      "Success!\n",
      "Success!\n",
      "Success!\n",
      "Success!\n",
      "Success!\n",
      "Success!\n",
      "Success!\n"
     ]
    }
   ],
   "source": [
    "assert_equals(first_dup('tweet'), 't')\n",
    "assert_equals(first_dup('Ode to Joy'), ' ')\n",
    "assert_equals(first_dup('ode to joy'), 'o')\n",
    "assert_equals(first_dup('bar'), None)\n",
    "assert_equals(first_dup('123123'), '1');\n",
    "assert_equals(first_dup('!@#$!@#$'), '!');\n",
    "assert_equals(first_dup('1a2b3a3c'), 'a');"
   ]
  },
  {
   "cell_type": "markdown",
   "metadata": {},
   "source": [
    "# Count letters in string"
   ]
  },
  {
   "cell_type": "markdown",
   "metadata": {},
   "source": [
    "In this kata, you've to count lowercase letters in a given string and return the letter count in a hash with 'letter' as key and count as 'value'. The key must be 'symbol' instead of string in Ruby and 'char' instead of string in Crystal.\n",
    "\n",
    "**Example:**\n",
    "\n",
    "```letter_count('arithmetics') # returns {\"a\": 1, \"c\": 1, \"e\": 1, \"h\": 1, \"i\": 2, \"m\": 1, \"r\": 1, \"s\": 1, \"t\": 2}```"
   ]
  },
  {
   "cell_type": "code",
   "execution_count": null,
   "metadata": {
    "ExecuteTime": {
     "end_time": "2020-03-10T07:00:58.267561Z",
     "start_time": "2020-03-10T07:00:58.264673Z"
    }
   },
   "outputs": [],
   "source": [
    "def letter_count(s):\n",
    "    '''\n",
    "    Your code here\n",
    "    '''"
   ]
  },
  {
   "cell_type": "markdown",
   "metadata": {},
   "source": [
    "Test your function below"
   ]
  },
  {
   "cell_type": "code",
   "execution_count": 12,
   "metadata": {
    "ExecuteTime": {
     "end_time": "2020-06-01T02:17:40.758606Z",
     "start_time": "2020-06-01T02:17:40.750562Z"
    }
   },
   "outputs": [
    {
     "name": "stdout",
     "output_type": "stream",
     "text": [
      "Success!\n",
      "Success!\n",
      "Success!\n",
      "Success!\n",
      "Success!\n"
     ]
    }
   ],
   "source": [
    "assert_equals(letter_count(\"joelisverycool\"), {'j': 1,'o': 3,'e': 2,'l': 2,'i': 1,'s': 1,'v': 1,'r': 1,'y': 1,'c': 1})\n",
    "assert_equals(letter_count(\"activity\"), {\"a\": 1, \"c\": 1, \"i\": 2, \"t\": 2, \"v\": 1, \"y\": 1})\n",
    "assert_equals(letter_count(\"arithmetics\"), {\"a\": 1, \"c\": 1, \"e\": 1, \"h\": 1, \"i\": 2, \"m\": 1, \"r\": 1, \"s\": 1, \"t\": 2})\n",
    "assert_equals(letter_count(\"traveller\"), {\"a\": 1, \"e\": 2, \"l\": 2, \"r\": 2, \"t\": 1, \"v\": 1})\n",
    "assert_equals(letter_count(\"daydreamer\"), {\"a\": 2, \"d\": 2, \"e\": 2, \"m\": 1, \"r\": 2, \"y\": 1})"
   ]
  },
  {
   "cell_type": "markdown",
   "metadata": {},
   "source": [
    "# Sum of Digits / Digital Root"
   ]
  },
  {
   "cell_type": "markdown",
   "metadata": {},
   "source": [
    "In this kata, you must create a digital root function.\n",
    "\n",
    "A digital root is the recursive sum of all the digits in a number. Given n, take the sum of the digits of n. If that value has more than one digit, continue reducing in this way until a single-digit number is produced. This is only applicable to the natural numbers.\n",
    "\n",
    "**Here's how it works:**\n",
    "\n",
    "```\n",
    "digital_root(16)\n",
    "=> 1 + 6\n",
    "=> 7\n",
    "\n",
    "digital_root(942)\n",
    "=> 9 + 4 + 2\n",
    "=> 15 ...\n",
    "=> 1 + 5\n",
    "=> 6\n",
    "\n",
    "digital_root(132189)\n",
    "=> 1 + 3 + 2 + 1 + 8 + 9\n",
    "=> 24 ...\n",
    "=> 2 + 4\n",
    "=> 6\n",
    "\n",
    "digital_root(493193)\n",
    "=> 4 + 9 + 3 + 1 + 9 + 3\n",
    "=> 29 ...\n",
    "=> 2 + 9\n",
    "=> 11 ...\n",
    "=> 1 + 1\n",
    "=> 2```"
   ]
  },
  {
   "cell_type": "code",
   "execution_count": null,
   "metadata": {
    "ExecuteTime": {
     "end_time": "2020-03-10T07:05:30.201168Z",
     "start_time": "2020-03-10T07:05:30.197985Z"
    }
   },
   "outputs": [],
   "source": [
    "def digital_root(n):\n",
    "    '''\n",
    "    Your code here\n",
    "    '''"
   ]
  },
  {
   "cell_type": "markdown",
   "metadata": {},
   "source": [
    "Test your function below"
   ]
  },
  {
   "cell_type": "code",
   "execution_count": 14,
   "metadata": {
    "ExecuteTime": {
     "end_time": "2020-06-01T02:20:49.415191Z",
     "start_time": "2020-06-01T02:20:49.407253Z"
    }
   },
   "outputs": [
    {
     "name": "stdout",
     "output_type": "stream",
     "text": [
      "Success!\n",
      "Success!\n",
      "Success!\n",
      "Success!\n",
      "Success!\n"
     ]
    }
   ],
   "source": [
    "assert_equals( digital_root(16), 7 )\n",
    "assert_equals( digital_root(456), 6 )\n",
    "assert_equals( digital_root(333), 9 )\n",
    "assert_equals( digital_root(1039), 4 )\n",
    "assert_equals( digital_root(20), 2 )"
   ]
  }
 ],
 "metadata": {
  "hide_input": false,
  "kernelspec": {
   "display_name": "Python 3",
   "language": "python",
   "name": "python3"
  },
  "language_info": {
   "codemirror_mode": {
    "name": "ipython",
    "version": 3
   },
   "file_extension": ".py",
   "mimetype": "text/x-python",
   "name": "python",
   "nbconvert_exporter": "python",
   "pygments_lexer": "ipython3",
   "version": "3.6.9"
  },
  "toc": {
   "base_numbering": 1,
   "nav_menu": {},
   "number_sections": false,
   "sideBar": true,
   "skip_h1_title": true,
   "title_cell": "Table of Contents",
   "title_sidebar": "Contents",
   "toc_cell": false,
   "toc_position": {},
   "toc_section_display": true,
   "toc_window_display": false
  },
  "varInspector": {
   "cols": {
    "lenName": 16,
    "lenType": 16,
    "lenVar": 40
   },
   "kernels_config": {
    "python": {
     "delete_cmd_postfix": "",
     "delete_cmd_prefix": "del ",
     "library": "var_list.py",
     "varRefreshCmd": "print(var_dic_list())"
    },
    "r": {
     "delete_cmd_postfix": ") ",
     "delete_cmd_prefix": "rm(",
     "library": "var_list.r",
     "varRefreshCmd": "cat(var_dic_list()) "
    }
   },
   "types_to_exclude": [
    "module",
    "function",
    "builtin_function_or_method",
    "instance",
    "_Feature"
   ],
   "window_display": false
  }
 },
 "nbformat": 4,
 "nbformat_minor": 4
}
